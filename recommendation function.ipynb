{
 "cells": [
  {
   "cell_type": "code",
   "execution_count": 4,
   "id": "b9355515-ad40-481a-a987-10289150af9f",
   "metadata": {},
   "outputs": [
    {
     "name": "stdout",
     "output_type": "stream",
     "text": [
      "Recommendation 1: Increase speed limit enforcement in high-risk areas.\n",
      "Recommendation 2: Introduce speed awareness programs.\n",
      "Recommendation 3: Implement campaigns against distracted driving.\n",
      "Recommendation 4: Enforce stricter penalties for using mobile devices while driving.\n"
     ]
    },
    {
     "name": "stderr",
     "output_type": "stream",
     "text": [
      "C:\\Users\\Anil PC\\AppData\\Local\\Temp\\ipykernel_6188\\4039651106.py:45: UserWarning: Could not infer format, so each element will be parsed individually, falling back to `dateutil`. To ensure parsing is consistent and as-expected, please specify a format.\n",
      "  data['hour'] = pd.to_datetime(data['time']).dt.hour\n"
     ]
    }
   ],
   "source": [
    "import pandas as pd\n",
    "\n",
    "def generate_recommendations(data):\n",
    "    recommendations = []\n",
    "\n",
    "    # Analyzing accidents by weather condition\n",
    "    weather_counts = data['weather_condition'].value_counts()\n",
    "    if weather_counts.get('Rain', 0) > 100:  # Example threshold\n",
    "        recommendations.append(\"Increase awareness campaigns for safe driving in rainy conditions.\")\n",
    "        recommendations.append(\"Improve road drainage systems to prevent hydroplaning.\")\n",
    "\n",
    "    # Analyzing accidents by road condition\n",
    "    road_counts = data['road_condition'].value_counts()\n",
    "    if road_counts.get('Wet', 0) > 100:\n",
    "        recommendations.append(\"Enhance road maintenance during wet conditions.\")\n",
    "        recommendations.append(\"Install more road signs warning about slippery roads.\")\n",
    "\n",
    "    # Analyzing accidents by time of day\n",
    "    hour_counts = data['hour'].value_counts()\n",
    "    if hour_counts.get(18, 0) > 50:  # Example threshold for peak hours\n",
    "        recommendations.append(\"Implement traffic calming measures during peak hours.\")\n",
    "        recommendations.append(\"Increase traffic patrols during evening rush hours.\")\n",
    "\n",
    "    # Analyzing accidents by contributing factor\n",
    "    factor_counts = data['contributing_factor'].value_counts()\n",
    "    if factor_counts.get('speeding', 0) > 100:\n",
    "        recommendations.append(\"Increase speed limit enforcement in high-risk areas.\")\n",
    "        recommendations.append(\"Introduce speed awareness programs.\")\n",
    "\n",
    "    if factor_counts.get('alcohol', 0) > 50:\n",
    "        recommendations.append(\"Increase DUI checkpoints and patrols.\")\n",
    "        recommendations.append(\"Promote public transportation options during late hours.\")\n",
    "\n",
    "    if factor_counts.get('distracted driving', 0) > 50:\n",
    "        recommendations.append(\"Implement campaigns against distracted driving.\")\n",
    "        recommendations.append(\"Enforce stricter penalties for using mobile devices while driving.\")\n",
    "\n",
    "    return recommendations\n",
    "\n",
    "# Load the dataset\n",
    "file_path = 'C:/Users/Anil PC/OneDrive/Desktop/INTERNSHIP/New folder/MOCK_DATA.csv'\n",
    "data = pd.read_csv(file_path)\n",
    "\n",
    "# Perform necessary preprocessing (e.g., extracting hour from time)\n",
    "data['hour'] = pd.to_datetime(data['time']).dt.hour\n",
    "\n",
    "# Generate and display recommendations\n",
    "recommendations = generate_recommendations(data)\n",
    "for i, rec in enumerate(recommendations, 1):\n",
    "    print(f\"Recommendation {i}: {rec}\")\n"
   ]
  },
  {
   "cell_type": "code",
   "execution_count": null,
   "id": "6ac0b390-7205-41db-a99f-9069e4a686c7",
   "metadata": {},
   "outputs": [],
   "source": []
  }
 ],
 "metadata": {
  "kernelspec": {
   "display_name": "Python 3 (ipykernel)",
   "language": "python",
   "name": "python3"
  },
  "language_info": {
   "codemirror_mode": {
    "name": "ipython",
    "version": 3
   },
   "file_extension": ".py",
   "mimetype": "text/x-python",
   "name": "python",
   "nbconvert_exporter": "python",
   "pygments_lexer": "ipython3",
   "version": "3.11.7"
  }
 },
 "nbformat": 4,
 "nbformat_minor": 5
}
